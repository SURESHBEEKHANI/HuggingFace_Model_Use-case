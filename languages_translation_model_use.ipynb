{
  "nbformat": 4,
  "nbformat_minor": 0,
  "metadata": {
    "colab": {
      "private_outputs": true,
      "provenance": [],
      "toc_visible": true,
      "gpuType": "T4",
      "include_colab_link": true
    },
    "kernelspec": {
      "name": "python3",
      "display_name": "Python 3"
    },
    "language_info": {
      "name": "python"
    },
    "accelerator": "GPU"
  },
  "cells": [
    {
      "cell_type": "markdown",
      "metadata": {
        "id": "view-in-github",
        "colab_type": "text"
      },
      "source": [
        "<a href=\"https://colab.research.google.com/github/SURESHBEEKHANI/HuggingFace_Model_Use-case/blob/main/languages_translation_model_use.ipynb\" target=\"_parent\"><img src=\"https://colab.research.google.com/assets/colab-badge.svg\" alt=\"Open In Colab\"/></a>"
      ]
    },
    {
      "cell_type": "code",
      "execution_count": null,
      "metadata": {
        "id": "6TptKwvk32hk"
      },
      "outputs": [],
      "source": [
        "# Import the transformers library, which is used for natural language processing tasks\n",
        "import transformers\n",
        "\n",
        "# Import the nlp pipeline module from the HuggingFace library, which is a popular library for working with transformer models\n",
        "from transformers import pipeline\n",
        "\n",
        "\n",
        "# Create a translator pipeline for translating English to French\n",
        "en_fr_translator = pipeline(\"translation_en_to_fr\")\n",
        "\n",
        "# Translate the provided English text to French\n",
        "response = en_fr_translator(\"Suresh beekhani is Greate Main  \")\n",
        "\n",
        "# Print the translated text\n",
        "print(response)\n"
      ]
    }
  ]
}