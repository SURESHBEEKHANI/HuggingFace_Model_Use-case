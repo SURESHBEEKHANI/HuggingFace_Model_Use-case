{
  "nbformat": 4,
  "nbformat_minor": 0,
  "metadata": {
    "colab": {
      "provenance": [],
      "gpuType": "T4",
      "authorship_tag": "ABX9TyPD+JKcK4xDnItpfVkrMnQq",
      "include_colab_link": true
    },
    "kernelspec": {
      "name": "python3",
      "display_name": "Python 3"
    },
    "language_info": {
      "name": "python"
    },
    "accelerator": "GPU"
  },
  "cells": [
    {
      "cell_type": "markdown",
      "metadata": {
        "id": "view-in-github",
        "colab_type": "text"
      },
      "source": [
        "<a href=\"https://colab.research.google.com/github/SURESHBEEKHANI/LLM_PROJECT/blob/main/stable%20diffusion.ipynb\" target=\"_parent\"><img src=\"https://colab.research.google.com/assets/colab-badge.svg\" alt=\"Open In Colab\"/></a>"
      ]
    },
    {
      "cell_type": "code",
      "source": [
        "!pip install diffusers"
      ],
      "metadata": {
        "id": "pdsTiLgzc1Af"
      },
      "execution_count": null,
      "outputs": []
    },
    {
      "cell_type": "code",
      "execution_count": 13,
      "metadata": {
        "id": "ydtFUdZZXgBE"
      },
      "outputs": [],
      "source": [
        "# Importing the transformers library for working with pre-trained models and natural language processing tasks\n",
        "import transformers\n",
        "\n",
        "# Importing the pipeline module from the transformers library, which provides easy-to-use interfaces for various NLP tasks\n",
        "from transformers import pipeline\n",
        "\n",
        "# Importing the diffusers library for leveraging the Diffusion models\n",
        "import diffusers\n",
        "\n",
        "# Importing the StableDiffusionPipeline class from the diffusers library, which allows utilizing Diffusion models in pipelines\n",
        "from diffusers import StableDiffusionPipeline\n",
        "\n",
        "# Importing the torch library, which is a prerequisite for using Diffusion models as they are built on PyTorch\n",
        "import torch\n"
      ]
    }
  ]
}