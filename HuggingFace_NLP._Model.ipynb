{
  "nbformat": 4,
  "nbformat_minor": 0,
  "metadata": {
    "colab": {
      "provenance": [],
      "toc_visible": true,
      "gpuType": "T4",
      "authorship_tag": "ABX9TyPkkmbSChuK0sK10SKsJXdy",
      "include_colab_link": true
    },
    "kernelspec": {
      "name": "python3",
      "display_name": "Python 3"
    },
    "language_info": {
      "name": "python"
    },
    "accelerator": "GPU"
  },
  "cells": [
    {
      "cell_type": "markdown",
      "metadata": {
        "id": "view-in-github",
        "colab_type": "text"
      },
      "source": [
        "<a href=\"https://colab.research.google.com/github/SURESHBEEKHANI/LLM_PROJECT/blob/main/HuggingFace_NLP._Model.ipynb\" target=\"_parent\"><img src=\"https://colab.research.google.com/assets/colab-badge.svg\" alt=\"Open In Colab\"/></a>"
      ]
    },
    {
      "cell_type": "code",
      "execution_count": null,
      "metadata": {
        "id": "8riOOSeI0Jwi"
      },
      "outputs": [],
      "source": [
        "# You can install the transformers library for using pre-trained NLP models from Hugging Face\n",
        "!pip install transformers\n"
      ]
    },
    {
      "cell_type": "code",
      "source": [
        "# Importing the transformers library to use pre-trained natural language processing models\n",
        "import transformers\n",
        "# Importing the pipeline submodule from transformers to easily access pre-trained models and their functionalities\n",
        "from transformers import pipeline\n",
        "\n",
        "# Creating a pipeline for text classification using a pre-trained model\n",
        "pipe = pipeline(\"text-classification\")\n",
        "\n",
        "# Using the pipeline to classify the text \"i am Good Boy\"\n",
        "pipe('i am Good Boy')\n"
      ],
      "metadata": {
        "colab": {
          "base_uri": "https://localhost:8080/"
        },
        "id": "q7lCkMGi2ZCi",
        "outputId": "195bcfd2-17f9-462b-ac3c-63b5b2c73b5b"
      },
      "execution_count": 18,
      "outputs": [
        {
          "output_type": "stream",
          "name": "stderr",
          "text": [
            "No model was supplied, defaulted to distilbert-base-uncased-finetuned-sst-2-english and revision af0f99b (https://huggingface.co/distilbert-base-uncased-finetuned-sst-2-english).\n",
            "Using a pipeline without specifying a model name and revision in production is not recommended.\n"
          ]
        },
        {
          "output_type": "execute_result",
          "data": {
            "text/plain": [
              "[{'label': 'POSITIVE', 'score': 0.9998593330383301}]"
            ]
          },
          "metadata": {},
          "execution_count": 18
        }
      ]
    },
    {
      "cell_type": "code",
      "source": [
        "#importing the trensfromsers libary to use pre-trained natural language  processing  models\n",
        "import transformers\n",
        "#importing the pipline\n",
        "from transformers import pipeline\n",
        "pipe =pipeline(model=\"distilbert/distilbert-base-uncased-finetuned-sst-2-english\")\n",
        "pipe(\"i am suresh beekhani Good Boys \")"
      ],
      "metadata": {
        "id": "zwSH2wDi-s7l",
        "outputId": "efab691a-2bd6-4d7d-cb44-1a6d2357bb87",
        "colab": {
          "base_uri": "https://localhost:8080/"
        }
      },
      "execution_count": 4,
      "outputs": [
        {
          "output_type": "execute_result",
          "data": {
            "text/plain": [
              "[{'label': 'POSITIVE', 'score': 0.9998338222503662}]"
            ]
          },
          "metadata": {},
          "execution_count": 4
        }
      ]
    }
  ]
}